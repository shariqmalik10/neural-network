{
 "cells": [
  {
   "cell_type": "code",
   "execution_count": 1,
   "metadata": {},
   "outputs": [],
   "source": [
    "import pandas as pd\n",
    "from NNEngine_v3 import NeuralNetwork"
   ]
  },
  {
   "cell_type": "code",
   "execution_count": 2,
   "metadata": {},
   "outputs": [],
   "source": [
    "df = pd.read_csv(\"churn_data.csv\")"
   ]
  },
  {
   "cell_type": "code",
   "execution_count": 3,
   "metadata": {},
   "outputs": [
    {
     "data": {
      "text/plain": [
       "['gender',\n",
       " 'SeniorCitizen',\n",
       " 'Partner',\n",
       " 'Dependents',\n",
       " 'tenure',\n",
       " 'PhoneService',\n",
       " 'OnlineSecurity',\n",
       " 'OnlineBackup',\n",
       " 'DeviceProtection',\n",
       " 'TechSupport',\n",
       " 'StreamingTV',\n",
       " 'StreamingMovies',\n",
       " 'PaperlessBilling',\n",
       " 'MonthlyCharges',\n",
       " 'TotalCharges',\n",
       " 'Churn',\n",
       " 'IS_DSL',\n",
       " 'IS_Fiber optic',\n",
       " 'IS_No',\n",
       " 'Contract_Month-to-month',\n",
       " 'Contract_One year',\n",
       " 'Contract_Two year',\n",
       " 'PM_Bank transfer (automatic)',\n",
       " 'PM_Credit card (automatic)',\n",
       " 'PM_Electronic check',\n",
       " 'PM_Mailed check',\n",
       " 'ML_No',\n",
       " 'ML_No phone service',\n",
       " 'ML_Yes']"
      ]
     },
     "execution_count": 3,
     "metadata": {},
     "output_type": "execute_result"
    }
   ],
   "source": [
    "df.columns.tolist()"
   ]
  },
  {
   "cell_type": "code",
   "execution_count": 4,
   "metadata": {},
   "outputs": [],
   "source": [
    "X_train = df.drop(df[\"Churn\"])"
   ]
  },
  {
   "cell_type": "code",
   "execution_count": 5,
   "metadata": {},
   "outputs": [],
   "source": [
    "X_train = X_train.drop(\"Churn\", axis=\"columns\")"
   ]
  },
  {
   "cell_type": "code",
   "execution_count": 6,
   "metadata": {},
   "outputs": [
    {
     "data": {
      "text/plain": [
       "28"
      ]
     },
     "execution_count": 6,
     "metadata": {},
     "output_type": "execute_result"
    }
   ],
   "source": [
    "len(X_train.columns.tolist())"
   ]
  },
  {
   "cell_type": "code",
   "execution_count": 7,
   "metadata": {},
   "outputs": [],
   "source": [
    "y_train = df[\"Churn\"]"
   ]
  },
  {
   "cell_type": "code",
   "execution_count": 8,
   "metadata": {},
   "outputs": [
    {
     "name": "stdout",
     "output_type": "stream",
     "text": [
      "Epoch: 1/5 - Total Loss: [5.65696195e-07 3.96311321e+00]\n",
      "Epoch: 2/5 - Total Loss: [6.35958907e-07 3.28938618e-01]\n",
      "Epoch: 3/5 - Total Loss: [6.26276075e-07 9.18294955e-02]\n",
      "Epoch: 4/5 - Total Loss: [6.16822182e-07 4.22338608e-02]\n",
      "Epoch: 5/5 - Total Loss: [6.07589665e-07 2.41203119e-02]\n"
     ]
    }
   ],
   "source": [
    "nn = NeuralNetwork(2, 2, 2)\n",
    "# Each training example has two data points\n",
    "x_train = [\n",
    "    [2.7810836, 2.550537003],\n",
    "    [1.465489372, 2.362125076],\n",
    "    [3.396561688, 4.400293529],\n",
    "    [1.38807019, 1.850220317],\n",
    "    [3.06407232, 3.005305973],\n",
    "    [7.627531214, 2.759262235],\n",
    "    [5.332441248, 2.088626775],\n",
    "    [6.922596716, 1.77106367],\n",
    "    [8.675418651, -0.242068655],\n",
    "    [7.673756466, 3.508563011],\n",
    "]\n",
    "\n",
    "# Each of these outputs is meant to represent a binary value where [1, 0] represents\n",
    "# 0 and [0, 1] represents 1.\n",
    "y_train = [\n",
    "    [1, 0],\n",
    "    [1, 0],\n",
    "    [1, 0],\n",
    "    [1, 0],\n",
    "    [1, 0],\n",
    "    [0, 1],\n",
    "    [0, 1],\n",
    "    [0, 1],\n",
    "    [0, 1],\n",
    "    [0, 1],\n",
    "]\n",
    "nn.train(x_train, y_train, 0.5)"
   ]
  },
  {
   "cell_type": "code",
   "execution_count": 9,
   "metadata": {},
   "outputs": [
    {
     "data": {
      "text/plain": [
       "1.0"
      ]
     },
     "execution_count": 9,
     "metadata": {},
     "output_type": "execute_result"
    }
   ],
   "source": [
    "X_train.iloc[1][0]"
   ]
  },
  {
   "cell_type": "code",
   "execution_count": 10,
   "metadata": {},
   "outputs": [
    {
     "data": {
      "text/plain": [
       "[{'weights': [array([ 0.21733969, -3.2907156 ]),\n",
       "   array([ 0.99711687, -1.9627909 ])],\n",
       "  'bias': array([0.00041313, 0.01316884]),\n",
       "  'act_val': array([9.74799865e-01, 9.11378135e-08]),\n",
       "  'error': array([0.00082626, 0.02633768])},\n",
       " {'weights': [array([ 0.08902599, -2.45257749]),\n",
       "   array([ 0.49840608, -1.40369444])],\n",
       "  'bias': array([0.00037629, 0.01745198]),\n",
       "  'act_val': array([8.53719837e-01, 5.92102818e-06]),\n",
       "  'error': array([0.00075257, 0.03490395])},\n",
       " {'weights': [array([ 0.67046968, -1.55597808]),\n",
       "   array([ 0.54590256, -1.13133056])],\n",
       "  'bias': array([0.00032022, 0.01151894]),\n",
       "  'act_val': array([9.75621822e-01, 2.32142068e-04]),\n",
       "  'error': array([0.00064045, 0.02303788])},\n",
       " {'weights': [array([ 0.39407732, -2.79475361]),\n",
       "   array([ 0.12568273, -2.51758542])],\n",
       "  'bias': array([0.00040053, 0.01589466]),\n",
       "  'act_val': array([8.28950007e-01, 7.49846023e-08]),\n",
       "  'error': array([0.00080106, 0.03178932])},\n",
       " {'weights': [array([ 0.60590579, -3.86720813]),\n",
       "   array([ 0.58844208, -3.25641958])],\n",
       "  'bias': array([0.00050532, 0.01779082]),\n",
       "  'act_val': array([9.73818558e-01, 2.94574898e-10]),\n",
       "  'error': array([0.00101065, 0.03558163])},\n",
       " {'weights': [array([ 0.82477024, -2.51492956]),\n",
       "   array([ 0.36213586, -2.19541929])],\n",
       "  'bias': array([0.00048004, 0.02172064]),\n",
       "  'act_val': array([9.73586471e-01, 4.20548928e-07]),\n",
       "  'error': array([0.00096009, 0.04344129])},\n",
       " {'weights': [array([ 0.97113457, -3.0899695 ]),\n",
       "   array([ 0.0359068 , -3.32191544])],\n",
       "  'bias': array([0.0005023 , 0.02028881]),\n",
       "  'act_val': array([9.55839910e-01, 2.50681675e-09]),\n",
       "  'error': array([0.0010046 , 0.04057762])},\n",
       " {'weights': [array([ 0.98203189, -2.67482862]),\n",
       "   array([ 0.55453815, -2.4401972 ])],\n",
       "  'bias': array([0.00045999, 0.01749748]),\n",
       "  'act_val': array([9.90692229e-01, 1.32879291e-07]),\n",
       "  'error': array([0.00091998, 0.03499496])},\n",
       " {'weights': [array([ 0.51411234, -3.15575595]),\n",
       "   array([ 0.85453315, -2.28870758])],\n",
       "  'bias': array([0.00041226, 0.01255386]),\n",
       "  'act_val': array([9.84268345e-01, 5.23063860e-08]),\n",
       "  'error': array([0.00082452, 0.02510772])},\n",
       " {'weights': [array([ 0.51504732, -3.16744849]),\n",
       "   array([ 0.17090663, -2.94718131])],\n",
       "  'bias': array([0.00043684, 0.0160149 ]),\n",
       "  'act_val': array([8.89352297e-01, 6.56761036e-09]),\n",
       "  'error': array([0.00087368, 0.0320298 ])},\n",
       " {'weights': [array([ 0.1395964 , -2.67579566]),\n",
       "   array([ 0.2914583 , -2.08135216])],\n",
       "  'bias': array([0.00033696, 0.0119113 ]),\n",
       "  'act_val': array([7.8546036e-01, 4.2927352e-07]),\n",
       "  'error': array([0.00067392, 0.02382259])},\n",
       " {'weights': [array([ 0.36380157, -3.83020952]),\n",
       "   array([ 0.81836078, -2.75415615])],\n",
       "  'bias': array([0.00048822, 0.01727173]),\n",
       "  'act_val': array([9.72498426e-01, 1.50626815e-09]),\n",
       "  'error': array([0.00097643, 0.03454346])},\n",
       " {'weights': [array([ 0.2572199 , -2.95411577]),\n",
       "   array([ 0.44266221, -2.11244048])],\n",
       "  'bias': array([0.00042522, 0.01778809]),\n",
       "  'act_val': array([8.91973043e-01, 1.50452469e-07]),\n",
       "  'error': array([0.00085043, 0.03557617])},\n",
       " {'weights': [array([ 0.72521217, -2.04303144]),\n",
       "   array([ 0.9799004 , -1.19526278])],\n",
       "  'bias': array([0.0003726 , 0.01355161]),\n",
       "  'act_val': array([9.94293973e-01, 4.15805317e-05]),\n",
       "  'error': array([0.00074519, 0.02710322])},\n",
       " {'weights': [array([ 0.01886454, -2.28267267]),\n",
       "   array([ 0.94964769, -0.90943532])],\n",
       "  'bias': array([0.00028665, 0.00779967]),\n",
       "  'act_val': array([9.48180835e-01, 5.20605020e-05]),\n",
       "  'error': array([0.0005733 , 0.01559933])},\n",
       " {'weights': [array([ 0.322275  , -2.67124272]),\n",
       "   array([ 0.11515159, -2.40566401])],\n",
       "  'bias': array([0.00034957, 0.01248117]),\n",
       "  'act_val': array([7.90416511e-01, 1.62630370e-07]),\n",
       "  'error': array([0.00069914, 0.02496234])}]"
      ]
     },
     "execution_count": 10,
     "metadata": {},
     "output_type": "execute_result"
    }
   ],
   "source": [
    "nn.desc()[1]"
   ]
  },
  {
   "cell_type": "code",
   "execution_count": 11,
   "metadata": {},
   "outputs": [
    {
     "name": "stdout",
     "output_type": "stream",
     "text": [
      "[[0.31109187 0.18901337]\n",
      " [0.31097122 0.18892354]]\n"
     ]
    }
   ],
   "source": [
    "nn.desc()[2][1][\"act_val\"]\n",
    "\n",
    "print(nn.softmax([nn.desc()[2][0][\"act_val\"], nn.desc()[2][1][\"act_val\"]]))"
   ]
  },
  {
   "cell_type": "code",
   "execution_count": 12,
   "metadata": {},
   "outputs": [
    {
     "data": {
      "text/plain": [
       "[1, 0]"
      ]
     },
     "execution_count": 12,
     "metadata": {},
     "output_type": "execute_result"
    }
   ],
   "source": [
    "y_train[2]"
   ]
  },
  {
   "cell_type": "code",
   "execution_count": 13,
   "metadata": {},
   "outputs": [],
   "source": [
    "y_train = df[\"Churn\"]"
   ]
  },
  {
   "cell_type": "code",
   "execution_count": 14,
   "metadata": {},
   "outputs": [
    {
     "data": {
      "text/plain": [
       "2"
      ]
     },
     "execution_count": 14,
     "metadata": {},
     "output_type": "execute_result"
    }
   ],
   "source": [
    "y_train.nunique()"
   ]
  },
  {
   "cell_type": "code",
   "execution_count": null,
   "metadata": {},
   "outputs": [],
   "source": []
  }
 ],
 "metadata": {
  "kernelspec": {
   "display_name": "Python 3",
   "language": "python",
   "name": "python3"
  },
  "language_info": {
   "codemirror_mode": {
    "name": "ipython",
    "version": 3
   },
   "file_extension": ".py",
   "mimetype": "text/x-python",
   "name": "python",
   "nbconvert_exporter": "python",
   "pygments_lexer": "ipython3",
   "version": "3.8.17"
  }
 },
 "nbformat": 4,
 "nbformat_minor": 2
}
